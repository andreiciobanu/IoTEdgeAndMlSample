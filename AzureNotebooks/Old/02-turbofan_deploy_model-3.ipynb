{
  "cells": [
    {
      "cell_type": "markdown",
      "source": [
        "# Introduction\n",
        "\n",
        "In this notebook, we demonstrate the steps needed to create an IoT Edge deployable module from the regression model created in the [turbofan regression](./turbofan_regression.ipynb) notebook. The steps we will follow are:\n",
        "   1. Reload experiment and model from the Azure Machine Learning service workspace\n",
        "   1. Create a scoring script\n",
        "   1. Create an environment YAML file\n",
        "   1. Create a container image using the model, scoring script and YAML file\n",
        "   1. Deploy the container image as a web service \n",
        "   1. Test the web service to make sure the container works as expected\n",
        "   1. Delete the web service\n",
        "   \n",
        "><font color=gray>Note: this notebook depends on the workspace, experiment and model created in the [turbofan regression](./turbofan_regression.ipynb) notebook.</font>"
      ],
      "metadata": {}
    },
    {
      "cell_type": "markdown",
      "source": [
        "# Set up notebook\n",
        "\n",
        "Please ensure that you are running this notebook under the Python 3.6 Kernel. The current kernel is show on the top of the notebook at the far right side of the file menu. If you are not running Python 3.6 you can change it in the file menu by clicking **Kernel->Change Kernel->Python 3.6**"
      ],
      "metadata": {}
    },
    {
      "cell_type": "code",
      "source": [
        "from IPython.core.interactiveshell import InteractiveShell\n",
        "InteractiveShell.ast_node_interactivity = \"all\"\n",
        "\n",
        "%matplotlib inline"
      ],
      "outputs": [],
      "execution_count": 1,
      "metadata": {
        "trusted": true,
        "gather": {
          "logged": 1611923214914
        }
      }
    },
    {
      "cell_type": "markdown",
      "source": [
        "## Configure workspace\n",
        "\n",
        "Create a workspace object from the existing workspace. `Workspace.from_config()` reads the file **aml_config/.azureml/config.json** and loads the details into an object named `ws`, which is used throughout the rest of the code in this notebook."
      ],
      "metadata": {}
    },
    {
      "cell_type": "code",
      "source": [
        "from azureml.core.workspace import Workspace\n",
        "from azureml.core.experiment import Experiment\n",
        "from azureml.core.model import Model\n",
        "from azureml.train.automl.run import AutoMLRun\n",
        "\n",
        "ws = Workspace.from_config(path='./aml_config')"
      ],
      "outputs": [],
      "execution_count": 2,
      "metadata": {
        "trusted": true,
        "gather": {
          "logged": 1611923219559
        }
      }
    },
    {
      "cell_type": "code",
      "source": [
        "ws.name"
      ],
      "outputs": [],
      "execution_count": null,
      "metadata": {
        "collapsed": true,
        "jupyter": {
          "source_hidden": false,
          "outputs_hidden": false
        },
        "nteract": {
          "transient": {
            "deleting": false
          }
        },
        "gather": {
          "logged": 1611861708095
        }
      }
    },
    {
      "cell_type": "markdown",
      "source": [
        "## Load run, experiment and model\n",
        "\n",
        "Use the model information that we persisted in the [turbofan regression](./turbofan_regression.ipynb) noebook to load our model."
      ],
      "metadata": {}
    },
    {
      "cell_type": "code",
      "source": [
        "import json \n",
        "\n",
        "#name project folder and experiment\n",
        "model_data = json.load(open('./aml_config/model_config.json'))\n",
        "\n",
        "run_id = model_data['regressionRunId']\n",
        "experiment_name = model_data['experimentName']\n",
        "model_id = model_data['modelId']\n",
        "\n",
        "experiment = Experiment(ws, experiment_name)\n",
        "automl_run = AutoMLRun(experiment = experiment, run_id = run_id)\n",
        "model = Model(ws, model_id)"
      ],
      "outputs": [],
      "execution_count": 3,
      "metadata": {
        "trusted": true,
        "gather": {
          "logged": 1611923223159
        }
      }
    },
    {
      "cell_type": "markdown",
      "source": [
        "# Create scoring script\n",
        "\n",
        "The scoring script is the piece of code that runs inside the container and interacts with the model to return a prediction to the caller of web service or Azure IoT Edge module that is running the container. The scoring script is authored knowing the shape of the message that will be sent to the container. In our case, we have chosen to format the message as:\n",
        "\n",
        "```json\n",
        "[{\n",
        "    \"DeviceId\": 81,\n",
        "    \"CycleTime\": 140,\n",
        "    \"OperationalSetting1\": 0.0,\n",
        "    \"OperationalSetting2\": -0.0002,\n",
        "    \"OperationalSetting3\": 100.0,\n",
        "    \"Sensor1\": 518.67,\n",
        "    \"Sensor2\": 642.43,\n",
        "    \"Sensor3\": 1596.02,\n",
        "    \"Sensor4\": 1404.4,\n",
        "    \"Sensor5\": 14.62,\n",
        "    \"Sensor6\": 21.6,\n",
        "    \"Sensor7\": 559.76,\n",
        "    \"Sensor8\": 2388.19,\n",
        "    \"Sensor9\": 9082.16,\n",
        "    \"Sensor10\": 1.31,\n",
        "    \"Sensor11\": 47.6,\n",
        "    \"Sensor12\": 527.82,\n",
        "    \"Sensor13\": 2388.17,\n",
        "    \"Sensor14\": 8155.92,\n",
        "    \"Sensor15\": 8.3214,\n",
        "    \"Sensor16\": 0.03,\n",
        "    \"Sensor17\": 393.0,\n",
        "    \"Sensor18\": 2388.0,\n",
        "    \"Sensor19\": 100.0,\n",
        "    \"Sensor20\": 39.41,\n",
        "    \"Sensor21\": 23.5488\n",
        "}]\n",
        "```"
      ],
      "metadata": {}
    },
    {
      "cell_type": "code",
      "source": [
        "script_file_name = 'score.py'"
      ],
      "outputs": [],
      "execution_count": 4,
      "metadata": {
        "trusted": true,
        "gather": {
          "logged": 1611923226497
        }
      }
    },
    {
      "cell_type": "code",
      "source": [
        "#Initial\n",
        "%%writefile $script_file_name\n",
        "import pickle\n",
        "import json\n",
        "import numpy as np\n",
        "import pandas as pd\n",
        "import azureml.train.automl\n",
        "from sklearn.externals import joblib\n",
        "from azureml.core.model import Model\n",
        "\n",
        "def init():\n",
        "    global model\n",
        "    log_for_debug(\"Get model\")\n",
        "    print(Model.get_model_path(model_name = '<<modelname>>'))\n",
        "    model_path = Model.get_model_path(model_name = '<<modelname>>')\n",
        "    # deserialize the model file back into a sklearn model\n",
        "    log_for_debug(\"\")\n",
        "    model = joblib.load(model_path)\n",
        "    \n",
        "def unpack_message(raw_data):\n",
        "    message_data = json.loads(raw_data)\n",
        "    # convert single message to list \n",
        "    if type(message_data) is dict:\n",
        "        message_data = [message_data]\n",
        "    return message_data\n",
        "    \n",
        "def extract_features(message_data):\n",
        "    X_data = []\n",
        "    sensor_names = ['Sensor'+str(i) for i in range(1,22)]\n",
        "    \n",
        "    for message in message_data:\n",
        "        # select sensor data from the message dictionary\n",
        "        feature_dict = {k: message[k] for k in (sensor_names)}\n",
        "        X_data.append(feature_dict)\n",
        "    \n",
        "    X_df = pd.DataFrame(X_data)\n",
        "    return np.array(X_df[sensor_names].values)\n",
        "\n",
        "def append_predict_data(message_data, y_hat):\n",
        "    message_df = pd.DataFrame(message_data)\n",
        "    message_df['PredictedRul'] = y_hat\n",
        "    return message_df.to_dict('records')\n",
        "\n",
        "def log_for_debug(log_message, log_data):\n",
        "    print(\"*****%s:\" % log_message)\n",
        "    print(log_data)\n",
        "    print(\"******\")\n",
        "\n",
        "def run(raw_data):\n",
        "    log_for_debug(\"raw_data\", raw_data)\n",
        "    \n",
        "    message_data = unpack_message(raw_data)\n",
        "    log_for_debug(\"message_data\", message_data)\n",
        "    \n",
        "    X_data = extract_features(message_data)\n",
        "    log_for_debug(\"X_data\", X_data)\n",
        "   \n",
        "    # make prediction\n",
        "    y_hat = model.predict(X_data)\n",
        "    \n",
        "    response_data = append_predict_data(message_data, y_hat)\n",
        "    return response_data"
      ],
      "outputs": [],
      "execution_count": null,
      "metadata": {
        "trusted": true
      }
    },
    {
      "cell_type": "code",
      "source": [
        "%%writefile $script_file_name\r\n",
        "import json\r\n",
        "import numpy as np\r\n",
        "import pandas as pd\r\n",
        "import azureml.train.automl\r\n",
        "import joblib\r\n",
        "from azureml.core.model import Model\r\n",
        "\r\n",
        "def init():\r\n",
        "    global model\r\n",
        "    print(Model.get_model_path(model_name = '<<modelname>>'))\r\n",
        "    model_path = Model.get_model_path(model_name = '<<modelname>>')\r\n",
        "    # deserialize the model file back into a sklearn model\r\n",
        "    model = joblib.load(model_path)\r\n",
        "    \r\n",
        "def unpack_message(raw_data):\r\n",
        "    message_data = json.loads(raw_data)\r\n",
        "    # convert single message to list \r\n",
        "    if type(message_data) is dict:\r\n",
        "        message_data = [message_data]\r\n",
        "    return message_data   \r\n",
        "\r\n",
        "def log_for_debug(log_message, log_data):\r\n",
        "    print(\"*****%s:\" % log_message)\r\n",
        "    print(log_data)\r\n",
        "    print(\"******\")\r\n",
        "\r\n",
        "def run(raw_data):\r\n",
        "    log_for_debug(\"raw_data\", raw_data)\r\n",
        "    \r\n",
        "    message_data = unpack_message(raw_data)\r\n",
        "    log_for_debug(\"message_data\", message_data)\r\n",
        "    \r\n",
        "    X_data = extract_features(message_data)\r\n",
        "    log_for_debug(\"X_data\", X_data)\r\n",
        "   \r\n",
        "    # make prediction\r\n",
        "    y_hat = model.predict(X_data)\r\n",
        "    \r\n",
        "    response_data = append_predict_data(message_data, y_hat)\r\n",
        "    return response_data"
      ],
      "outputs": [
        {
          "output_type": "stream",
          "name": "stdout",
          "text": [
            "Overwriting score.py\n"
          ]
        }
      ],
      "execution_count": 5,
      "metadata": {
        "collapsed": true,
        "jupyter": {
          "source_hidden": false,
          "outputs_hidden": false
        },
        "nteract": {
          "transient": {
            "deleting": false
          }
        }
      }
    },
    {
      "cell_type": "markdown",
      "source": [
        "### Update the scoring script with the actual model ID"
      ],
      "metadata": {}
    },
    {
      "cell_type": "code",
      "source": [
        "# Substitute the actual model id in the script file.\n",
        "\n",
        "with open(script_file_name, 'r') as cefr:\n",
        "    content = cefr.read()\n",
        "\n",
        "with open(script_file_name, 'w') as cefw:\n",
        "    cefw.write(content.replace('<<modelname>>', model.name))"
      ],
      "outputs": [
        {
          "output_type": "execute_result",
          "execution_count": 6,
          "data": {
            "text/plain": "1116"
          },
          "metadata": {}
        }
      ],
      "execution_count": 6,
      "metadata": {
        "trusted": true,
        "gather": {
          "logged": 1611923271986
        }
      }
    },
    {
      "cell_type": "code",
      "source": [
        "best_run, fitted_model = automl_run.get_output()"
      ],
      "outputs": [],
      "execution_count": 7,
      "metadata": {
        "collapsed": true,
        "jupyter": {
          "source_hidden": false,
          "outputs_hidden": false
        },
        "nteract": {
          "transient": {
            "deleting": false
          }
        },
        "gather": {
          "logged": 1611923277058
        }
      }
    },
    {
      "cell_type": "code",
      "source": [
        "conda_env_file_name = 'conda_env.yml'"
      ],
      "outputs": [],
      "execution_count": 8,
      "metadata": {
        "collapsed": true,
        "jupyter": {
          "source_hidden": false,
          "outputs_hidden": false
        },
        "nteract": {
          "transient": {
            "deleting": false
          }
        },
        "gather": {
          "logged": 1611923279271
        }
      }
    },
    {
      "cell_type": "code",
      "source": [
        "# overwrites conda_env.yml with the correct values!\r\n",
        "# add ruamel.yaml>=0.15.99 at the end\r\n",
        "from azureml.automl.core.shared import constants\r\n",
        "\r\n",
        "best_run.download_file(name=\"outputs/conda_env_v_1_0_0.yml\", output_file_path=conda_env_file_name)\r\n",
        "with open(conda_env_file_name, \"r\") as conda_file:\r\n",
        "    conda_file_contents = conda_file.read()\r\n",
        "    print(conda_file_contents)"
      ],
      "outputs": [
        {
          "output_type": "stream",
          "name": "stdout",
          "text": [
            "# Conda environment specification. The dependencies defined in this file will\n",
            "# be automatically provisioned for runs with userManagedDependencies=False.\n",
            "\n",
            "# Details about the Conda environment file format:\n",
            "# https://conda.io/docs/user-guide/tasks/manage-environments.html#create-env-file-manually\n",
            "\n",
            "name: project_environment\n",
            "dependencies:\n",
            "  # The python interpreter version.\n",
            "  # Currently Azure ML only supports 3.5.2 and later.\n",
            "- python=3.6.2\n",
            "\n",
            "- pip:\n",
            "  - azureml-train-automl-runtime==1.20.0.post1\n",
            "  - inference-schema\n",
            "  - azureml-interpret==1.20.0\n",
            "  - azureml-defaults==1.20.0\n",
            "- numpy>=1.16.0,<1.19.0\n",
            "- pandas==0.25.1\n",
            "- scikit-learn==0.22.1\n",
            "- py-xgboost<=0.90\n",
            "- fbprophet==0.5\n",
            "- holidays==0.9.11\n",
            "- psutil>=5.2.2,<6.0.0\n",
            "channels:\n",
            "- anaconda\n",
            "- conda-forge\n",
            "\n"
          ]
        }
      ],
      "execution_count": 6,
      "metadata": {
        "collapsed": true,
        "jupyter": {
          "source_hidden": false,
          "outputs_hidden": false
        },
        "nteract": {
          "transient": {
            "deleting": false
          }
        },
        "gather": {
          "logged": 1611910078821
        }
      }
    },
    {
      "cell_type": "code",
      "source": [
        "# DO NOT USE, IT DOESN'T CREATE AN IMAGE\r\n",
        "from azureml.core.model import InferenceConfig\r\n",
        "from azureml.core.webservice import AciWebservice\r\n",
        "from azureml.core.webservice import Webservice\r\n",
        "from azureml.core.model import Model\r\n",
        "\r\n",
        "inference_config = InferenceConfig(environment = best_run.get_environment(), \r\n",
        "                                   entry_script = script_file_name)\r\n",
        "\r\n",
        "aciconfig = AciWebservice.deploy_configuration(cpu_cores = 1, \r\n",
        "                                               memory_gb = 2, \r\n",
        "                                               tags = {'type': \"automl-forecasting\"},\r\n",
        "                                               description = \"Automl forecasting sample service\")"
      ],
      "outputs": [],
      "execution_count": null,
      "metadata": {
        "collapsed": true,
        "jupyter": {
          "source_hidden": false,
          "outputs_hidden": false
        },
        "nteract": {
          "transient": {
            "deleting": false
          }
        },
        "gather": {
          "logged": 1611410072459
        }
      }
    },
    {
      "cell_type": "code",
      "source": [
        "aci_service_name = 'automl-forecast'\r\n",
        "print(aci_service_name)\r\n",
        "aci_service = Model.deploy(ws, aci_service_name, [model], inference_config, aciconfig)\r\n",
        "aci_service.wait_for_deployment(True)\r\n",
        "print(aci_service.state)"
      ],
      "outputs": [],
      "execution_count": null,
      "metadata": {
        "collapsed": true,
        "jupyter": {
          "source_hidden": false,
          "outputs_hidden": false
        },
        "nteract": {
          "transient": {
            "deleting": false
          }
        },
        "gather": {
          "logged": 1611410262946
        }
      }
    },
    {
      "cell_type": "markdown",
      "source": [
        "## Create YAML file for the environment\n",
        "\n",
        "The YAML file provides the information about the dependencies for the model we will deploy. \n",
        "\n",
        "### Get azureml versions\n",
        "\n",
        "First we will use the run to retrieve the version of the azureml packages used to train the model. \n",
        "\n",
        ">Warnings about the version of the SDK not matching with the training version are expected "
      ],
      "metadata": {}
    },
    {
      "cell_type": "code",
      "source": [
        "best_run, fitted_model = automl_run.get_output()\n",
        "iteration = int(best_run.get_properties()['iteration'])\n",
        "dependencies = automl_run.get_run_sdk_dependencies(iteration = iteration)\n",
        "for p in ['azureml-train-automl-runtime', 'azureml-train-automl-client', 'azureml-automl-runtime', 'azureml-automl-core']:\n",
        "    print('{}\\t{}'.format(p, dependencies[p]))"
      ],
      "outputs": [],
      "execution_count": null,
      "metadata": {
        "trusted": true,
        "gather": {
          "logged": 1611510253464
        }
      }
    },
    {
      "cell_type": "markdown",
      "source": [
        "### Write YAML file \n",
        "\n",
        "Write the initial YAML file to disk and update the dependencies for azureml to match with the training versions. This is not strictly needed in this notebook because the model likely has been generated using the current SDK version. However, we include this for completeness for the case when an experiment was trained using a previous SDK version."
      ],
      "metadata": {}
    },
    {
      "cell_type": "code",
      "source": [
        "conda_env_file_name = 'myenv.yml'"
      ],
      "outputs": [],
      "execution_count": null,
      "metadata": {
        "collapsed": true,
        "jupyter": {
          "source_hidden": false,
          "outputs_hidden": false
        },
        "nteract": {
          "transient": {
            "deleting": false
          }
        },
        "gather": {
          "logged": 1611867934565
        }
      }
    },
    {
      "cell_type": "code",
      "source": [
        "import azureml.core\n",
        "from azureml.core.conda_dependencies import CondaDependencies\n",
        "\n",
        "myenv = CondaDependencies.create(conda_packages=['numpy','scikit-learn','pandas','psutil'], pip_packages=['azureml-defaults','azureml-core'])\n",
        "\n",
        "myenv.save_to_file('.', conda_env_file_name)\n",
        "# Substitute the actual version number in the environment file.\n",
        "with open(conda_env_file_name, 'r') as cefr:\n",
        "    content = cefr.read()"
      ],
      "outputs": [],
      "execution_count": null,
      "metadata": {
        "trusted": true,
        "gather": {
          "logged": 1611867936272
        }
      }
    },
    {
      "cell_type": "markdown",
      "source": [
        "## Create a container image\n",
        "\n",
        "Use the scoring script and the YAML file to create a container image in the workspace. The image will take several minutes to create."
      ],
      "metadata": {}
    },
    {
      "cell_type": "code",
      "source": [
        "from azureml.core.image import Image, ContainerImage\n",
        "\n",
        "image_config = ContainerImage.image_configuration(runtime= \"python\",\n",
        "                                 execution_script = script_file_name,\n",
        "                                 conda_file = conda_env_file_name,\n",
        "                                 tags = {'area': \"digits\", 'type': \"automl_classification\"},\n",
        "                                 description = \"Image for Edge ML samples\")\n",
        "\n",
        "image = Image.create(name = \"edgemlsample1\",\n",
        "                     # this is the model object \n",
        "                     models = [model],\n",
        "                     image_config = image_config, \n",
        "                     workspace = ws)\n",
        "\n",
        "image.wait_for_creation(show_output = True)\n",
        "\n",
        "if image.creation_state == 'Failed':\n",
        "    print(\"Image build log at: \" + image.image_build_log_uri)"
      ],
      "outputs": [
        {
          "output_type": "stream",
          "name": "stdout",
          "text": [
            "Creating image\n",
            "Running................................................................................................................................................"
          ]
        }
      ],
      "execution_count": null,
      "metadata": {
        "trusted": true,
        "gather": {
          "logged": 1611914363447
        }
      }
    },
    {
      "cell_type": "markdown",
      "source": [
        "## Deploy image as a web service on Azure Container Instance\n",
        "\n",
        "Deploy the image we just created as web service on Azure Container Instance (ACI). We will use this web service to test that our model/container performs as expected. "
      ],
      "metadata": {}
    },
    {
      "cell_type": "code",
      "source": [
        "from azureml.core.webservice import AciWebservice\n",
        "from azureml.core.webservice import Webservice\n",
        "aci_service_name = 'edge-ml-rul-21'\n",
        "\n",
        "# to retrieve the logs:\n",
        "#1) az login\n",
        "#2) az ml service get-logs --verbose --workspace-name turbofanDemo2 --name edge-ml-rul-07\n",
        "aci_config = AciWebservice.deploy_configuration(cpu_cores = 1, \n",
        "                                               memory_gb = 1, \n",
        "                                               tags = {'area': \"digits\", 'type': \"automl_RUL\"}, \n",
        "                                               description = 'test service for Edge ML RUL')\n",
        "\n",
        "print (\"Deploying service: %s\" % aci_service_name)\n",
        "\n",
        "aci_service = Webservice.deploy_from_image(deployment_config = aci_config,\n",
        "                                           image = image,\n",
        "                                           name = aci_service_name,\n",
        "                                           workspace = ws)\n",
        "\n",
        "aci_service.wait_for_deployment(True)\n",
        "print (\"Service state: %s\" % aci_service.state)"
      ],
      "outputs": [
        {
          "output_type": "stream",
          "name": "stdout",
          "text": [
            "Deploying service: edge-ml-rul-21\n",
            "Tips: You can try get_logs(): https://aka.ms/debugimage#dockerlog or local deployment: https://aka.ms/debugimage#debug-locally to debug if deployment takes longer than 10 minutes.\n",
            "Running.....................................\n",
            "Succeeded\n",
            "ACI service creation operation finished, operation \"Succeeded\"\n",
            "Service state: Healthy\n"
          ]
        }
      ],
      "execution_count": 10,
      "metadata": {
        "trusted": true,
        "gather": {
          "logged": 1611924933666
        }
      }
    },
    {
      "cell_type": "code",
      "source": [
        "print(aci_service.get_logs())"
      ],
      "outputs": [
        {
          "output_type": "stream",
          "name": "stdout",
          "text": [
            "2021-01-29T10:39:49,373913245+00:00 - iot-server/run \n",
            "2021-01-29T10:39:49,373185444+00:00 - rsyslog/run \n",
            "2021-01-29T10:39:49,375670948+00:00 - gunicorn/run \n",
            "2021-01-29T10:39:49,416727407+00:00 - nginx/run \n",
            "EdgeHubConnectionString and IOTEDGE_IOTHUBHOSTNAME are not set. Exiting...\n",
            "2021-01-29T10:39:49,653021652+00:00 - iot-server/finish 1 0\n",
            "2021-01-29T10:39:49,654559654+00:00 - Exit code 1 is normal. Not restarting iot-server.\n",
            "Starting gunicorn 19.9.0\n",
            "Listening at: http://127.0.0.1:31311 (11)\n",
            "Using worker: sync\n",
            "worker timeout is set to 300\n",
            "Booting worker with pid: 43\n",
            "generated new fontManager\n",
            "Initializing logger\n",
            "2021-01-29 10:39:55,871 | root | INFO | Starting up app insights client\n",
            "Starting up app insights client\n",
            "2021-01-29 10:39:55,871 | root | INFO | Starting up request id generator\n",
            "Starting up request id generator\n",
            "2021-01-29 10:39:55,871 | root | INFO | Starting up app insight hooks\n",
            "Starting up app insight hooks\n",
            "2021-01-29 10:39:55,871 | root | INFO | Invoking user's init function\n",
            "Invoking user's init function\n",
            "2021-01-29 10:39:55,871 | root | ERROR | User's init function failed\n",
            "User's init function failed\n",
            "2021-01-29 10:39:55,872 | root | ERROR | Encountered Exception Traceback (most recent call last):\n",
            "  File \"/var/azureml-server/aml_blueprint.py\", line 163, in register\n",
            "    main.init()\n",
            "  File \"/var/azureml-app/main.py\", line 35, in init\n",
            "    driver_module.init()\n",
            "  File \"/var/azureml-app/score.py\", line 10, in init\n",
            "    log_for_debug(\"Get model\")\n",
            "TypeError: log_for_debug() missing 1 required positional argument: 'log_data'\n",
            "\n",
            "Encountered Exception Traceback (most recent call last):\n",
            "  File \"/var/azureml-server/aml_blueprint.py\", line 163, in register\n",
            "    main.init()\n",
            "  File \"/var/azureml-app/main.py\", line 35, in init\n",
            "    driver_module.init()\n",
            "  File \"/var/azureml-app/score.py\", line 10, in init\n",
            "    log_for_debug(\"Get model\")\n",
            "TypeError: log_for_debug() missing 1 required positional argument: 'log_data'\n",
            "\n",
            "Worker exiting (pid: 43)\n",
            "Shutting down: Master\n",
            "Reason: Worker failed to boot.\n",
            "2021-01-29T10:39:57,100251205+00:00 - gunicorn/finish 3 0\n",
            "2021-01-29T10:39:57,101345407+00:00 - Exit code 3 is not normal. Killing image.\n",
            "\n"
          ]
        }
      ],
      "execution_count": 14,
      "metadata": {
        "collapsed": true,
        "jupyter": {
          "source_hidden": false,
          "outputs_hidden": false
        },
        "nteract": {
          "transient": {
            "deleting": false
          }
        },
        "gather": {
          "logged": 1611916828022
        }
      }
    },
    {
      "cell_type": "markdown",
      "source": [
        "## Load test data\n",
        "\n",
        "To save a couple of steps at this point, we serialized the test data that we loaded in the [turbofan regression](./turbofan_regression.ipynb) notebook. Here we deserialize that data to use it to test the web service."
      ],
      "metadata": {}
    },
    {
      "cell_type": "code",
      "source": [
        "import pandas as pd\n",
        "from sklearn.externals import joblib\n",
        "import numpy\n",
        "\n",
        "test_df = pd.read_csv(\"data/WebServiceTest.csv\")\n",
        "\n",
        "test_df.head(5)"
      ],
      "outputs": [
        {
          "output_type": "execute_result",
          "execution_count": 11,
          "data": {
            "text/plain": "   Unnamed: 0  Unit  CycleTime  OperationalSetting1  OperationalSetting2  \\\n0           0     1          1                -0.00                -0.00   \n1           1     1          2                 0.00                -0.00   \n2           2     1          3                 0.00                -0.00   \n3           3     1          4                 0.00                 0.00   \n4           4     1          5                -0.00                 0.00   \n\n   OperationalSetting3  Sensor1  Sensor2  Sensor3  Sensor4  ...  Sensor16  \\\n0               100.00   518.67   641.94  1581.93  1396.93  ...      0.03   \n1               100.00   518.67   642.02  1584.86  1398.90  ...      0.03   \n2               100.00   518.67   641.68  1581.78  1391.92  ...      0.03   \n3               100.00   518.67   642.20  1584.53  1395.34  ...      0.03   \n4               100.00   518.67   642.46  1589.03  1395.86  ...      0.03   \n\n   Sensor17  Sensor18  Sensor19  Sensor20  Sensor21  MaxCycle  TestEndRUL  \\\n0       391      2388    100.00     39.07     23.45       233          44   \n1       391      2388    100.00     39.04     23.48       233          44   \n2       391      2388    100.00     39.10     23.42       233          44   \n3       392      2388    100.00     38.97     23.48       233          44   \n4       391      2388    100.00     39.09     23.39       233          44   \n\n   RUL  RulClass  \n0  276      Full  \n1  275      Full  \n2  274      Full  \n3  273      Full  \n4  272      Full  \n\n[5 rows x 31 columns]",
            "text/html": "<div>\n<style scoped>\n    .dataframe tbody tr th:only-of-type {\n        vertical-align: middle;\n    }\n\n    .dataframe tbody tr th {\n        vertical-align: top;\n    }\n\n    .dataframe thead th {\n        text-align: right;\n    }\n</style>\n<table border=\"1\" class=\"dataframe\">\n  <thead>\n    <tr style=\"text-align: right;\">\n      <th></th>\n      <th>Unnamed: 0</th>\n      <th>Unit</th>\n      <th>CycleTime</th>\n      <th>OperationalSetting1</th>\n      <th>OperationalSetting2</th>\n      <th>OperationalSetting3</th>\n      <th>Sensor1</th>\n      <th>Sensor2</th>\n      <th>Sensor3</th>\n      <th>Sensor4</th>\n      <th>...</th>\n      <th>Sensor16</th>\n      <th>Sensor17</th>\n      <th>Sensor18</th>\n      <th>Sensor19</th>\n      <th>Sensor20</th>\n      <th>Sensor21</th>\n      <th>MaxCycle</th>\n      <th>TestEndRUL</th>\n      <th>RUL</th>\n      <th>RulClass</th>\n    </tr>\n  </thead>\n  <tbody>\n    <tr>\n      <th>0</th>\n      <td>0</td>\n      <td>1</td>\n      <td>1</td>\n      <td>-0.00</td>\n      <td>-0.00</td>\n      <td>100.00</td>\n      <td>518.67</td>\n      <td>641.94</td>\n      <td>1581.93</td>\n      <td>1396.93</td>\n      <td>...</td>\n      <td>0.03</td>\n      <td>391</td>\n      <td>2388</td>\n      <td>100.00</td>\n      <td>39.07</td>\n      <td>23.45</td>\n      <td>233</td>\n      <td>44</td>\n      <td>276</td>\n      <td>Full</td>\n    </tr>\n    <tr>\n      <th>1</th>\n      <td>1</td>\n      <td>1</td>\n      <td>2</td>\n      <td>0.00</td>\n      <td>-0.00</td>\n      <td>100.00</td>\n      <td>518.67</td>\n      <td>642.02</td>\n      <td>1584.86</td>\n      <td>1398.90</td>\n      <td>...</td>\n      <td>0.03</td>\n      <td>391</td>\n      <td>2388</td>\n      <td>100.00</td>\n      <td>39.04</td>\n      <td>23.48</td>\n      <td>233</td>\n      <td>44</td>\n      <td>275</td>\n      <td>Full</td>\n    </tr>\n    <tr>\n      <th>2</th>\n      <td>2</td>\n      <td>1</td>\n      <td>3</td>\n      <td>0.00</td>\n      <td>-0.00</td>\n      <td>100.00</td>\n      <td>518.67</td>\n      <td>641.68</td>\n      <td>1581.78</td>\n      <td>1391.92</td>\n      <td>...</td>\n      <td>0.03</td>\n      <td>391</td>\n      <td>2388</td>\n      <td>100.00</td>\n      <td>39.10</td>\n      <td>23.42</td>\n      <td>233</td>\n      <td>44</td>\n      <td>274</td>\n      <td>Full</td>\n    </tr>\n    <tr>\n      <th>3</th>\n      <td>3</td>\n      <td>1</td>\n      <td>4</td>\n      <td>0.00</td>\n      <td>0.00</td>\n      <td>100.00</td>\n      <td>518.67</td>\n      <td>642.20</td>\n      <td>1584.53</td>\n      <td>1395.34</td>\n      <td>...</td>\n      <td>0.03</td>\n      <td>392</td>\n      <td>2388</td>\n      <td>100.00</td>\n      <td>38.97</td>\n      <td>23.48</td>\n      <td>233</td>\n      <td>44</td>\n      <td>273</td>\n      <td>Full</td>\n    </tr>\n    <tr>\n      <th>4</th>\n      <td>4</td>\n      <td>1</td>\n      <td>5</td>\n      <td>-0.00</td>\n      <td>0.00</td>\n      <td>100.00</td>\n      <td>518.67</td>\n      <td>642.46</td>\n      <td>1589.03</td>\n      <td>1395.86</td>\n      <td>...</td>\n      <td>0.03</td>\n      <td>391</td>\n      <td>2388</td>\n      <td>100.00</td>\n      <td>39.09</td>\n      <td>23.39</td>\n      <td>233</td>\n      <td>44</td>\n      <td>272</td>\n      <td>Full</td>\n    </tr>\n  </tbody>\n</table>\n<p>5 rows × 31 columns</p>\n</div>"
          },
          "metadata": {}
        }
      ],
      "execution_count": 11,
      "metadata": {
        "trusted": true,
        "gather": {
          "logged": 1611924946472
        }
      }
    },
    {
      "cell_type": "markdown",
      "source": [
        "## Predict one message at a time\n",
        "\n",
        "Once the container/model is deployed to and Azure IoT Edge device it will receive messages one at a time. Send a few messages in that mode to make sure everything is working."
      ],
      "metadata": {}
    },
    {
      "cell_type": "code",
      "source": [
        "import json\n",
        "import pandas as pd\n",
        "\n",
        "# reformat data as list of messages\n",
        "X_message = test_df.head(5).to_dict('record')\n",
        "\n",
        "result_list = []\n",
        "for row in X_message:\n",
        "    row_data = json.dumps(row)\n",
        "    row_result = aci_service.run(input_data=row_data)\n",
        "    result_list.append(row_result[0])"
      ],
      "outputs": [
        {
          "output_type": "stream",
          "name": "stderr",
          "text": [
            "ERROR:azureml.core.webservice.aci:Received bad response from service. More information can be found by calling `.get_logs()` on the webservice object.\n",
            "Response Code: 502\n",
            "Headers: {'Connection': 'keep-alive', 'Content-Length': '38', 'Content-Type': 'text/html; charset=utf-8', 'Date': 'Fri, 29 Jan 2021 12:55:53 GMT', 'Server': 'nginx/1.10.3 (Ubuntu)', 'X-Ms-Request-Id': '3c39affe-ae1b-4b41-ac0b-59129025cd61', 'X-Ms-Run-Function-Failed': 'True'}\n",
            "Content: b\"name 'extract_features' is not defined\"\n",
            "\n"
          ]
        },
        {
          "output_type": "error",
          "ename": "WebserviceException",
          "evalue": "WebserviceException:\n\tMessage: Received bad response from service. More information can be found by calling `.get_logs()` on the webservice object.\nResponse Code: 502\nHeaders: {'Connection': 'keep-alive', 'Content-Length': '38', 'Content-Type': 'text/html; charset=utf-8', 'Date': 'Fri, 29 Jan 2021 12:55:53 GMT', 'Server': 'nginx/1.10.3 (Ubuntu)', 'X-Ms-Request-Id': '3c39affe-ae1b-4b41-ac0b-59129025cd61', 'X-Ms-Run-Function-Failed': 'True'}\nContent: b\"name 'extract_features' is not defined\"\n\tInnerException None\n\tErrorResponse \n{\n    \"error\": {\n        \"message\": \"Received bad response from service. More information can be found by calling `.get_logs()` on the webservice object.\\nResponse Code: 502\\nHeaders: {'Connection': 'keep-alive', 'Content-Length': '38', 'Content-Type': 'text/html; charset=utf-8', 'Date': 'Fri, 29 Jan 2021 12:55:53 GMT', 'Server': 'nginx/1.10.3 (Ubuntu)', 'X-Ms-Request-Id': '3c39affe-ae1b-4b41-ac0b-59129025cd61', 'X-Ms-Run-Function-Failed': 'True'}\\nContent: b\\\"name 'extract_features' is not defined\\\"\"\n    }\n}",
          "traceback": [
            "\u001b[0;31m---------------------------------------------------------------------------\u001b[0m",
            "\u001b[0;31mWebserviceException\u001b[0m                       Traceback (most recent call last)",
            "\u001b[0;32m<ipython-input-12-ac28d6bb57f2>\u001b[0m in \u001b[0;36m<module>\u001b[0;34m\u001b[0m\n\u001b[1;32m      8\u001b[0m \u001b[0;32mfor\u001b[0m \u001b[0mrow\u001b[0m \u001b[0;32min\u001b[0m \u001b[0mX_message\u001b[0m\u001b[0;34m:\u001b[0m\u001b[0;34m\u001b[0m\u001b[0;34m\u001b[0m\u001b[0m\n\u001b[1;32m      9\u001b[0m     \u001b[0mrow_data\u001b[0m \u001b[0;34m=\u001b[0m \u001b[0mjson\u001b[0m\u001b[0;34m.\u001b[0m\u001b[0mdumps\u001b[0m\u001b[0;34m(\u001b[0m\u001b[0mrow\u001b[0m\u001b[0;34m)\u001b[0m\u001b[0;34m\u001b[0m\u001b[0;34m\u001b[0m\u001b[0m\n\u001b[0;32m---> 10\u001b[0;31m     \u001b[0mrow_result\u001b[0m \u001b[0;34m=\u001b[0m \u001b[0maci_service\u001b[0m\u001b[0;34m.\u001b[0m\u001b[0mrun\u001b[0m\u001b[0;34m(\u001b[0m\u001b[0minput_data\u001b[0m\u001b[0;34m=\u001b[0m\u001b[0mrow_data\u001b[0m\u001b[0;34m)\u001b[0m\u001b[0;34m\u001b[0m\u001b[0;34m\u001b[0m\u001b[0m\n\u001b[0m\u001b[1;32m     11\u001b[0m     \u001b[0mresult_list\u001b[0m\u001b[0;34m.\u001b[0m\u001b[0mappend\u001b[0m\u001b[0;34m(\u001b[0m\u001b[0mrow_result\u001b[0m\u001b[0;34m[\u001b[0m\u001b[0;36m0\u001b[0m\u001b[0;34m]\u001b[0m\u001b[0;34m)\u001b[0m\u001b[0;34m\u001b[0m\u001b[0;34m\u001b[0m\u001b[0m\n",
            "\u001b[0;32m/anaconda/envs/azureml_py36/lib/python3.6/site-packages/azureml/core/webservice/aci.py\u001b[0m in \u001b[0;36mrun\u001b[0;34m(self, input_data)\u001b[0m\n\u001b[1;32m    403\u001b[0m                                       \u001b[0;34m'Headers: {}\\n'\u001b[0m\u001b[0;34m\u001b[0m\u001b[0;34m\u001b[0m\u001b[0m\n\u001b[1;32m    404\u001b[0m                                       \u001b[0;34m'Content: {}'\u001b[0m\u001b[0;34m.\u001b[0m\u001b[0mformat\u001b[0m\u001b[0;34m(\u001b[0m\u001b[0mresp\u001b[0m\u001b[0;34m.\u001b[0m\u001b[0mstatus_code\u001b[0m\u001b[0;34m,\u001b[0m \u001b[0mresp\u001b[0m\u001b[0;34m.\u001b[0m\u001b[0mheaders\u001b[0m\u001b[0;34m,\u001b[0m \u001b[0mresp\u001b[0m\u001b[0;34m.\u001b[0m\u001b[0mcontent\u001b[0m\u001b[0;34m)\u001b[0m\u001b[0;34m,\u001b[0m\u001b[0;34m\u001b[0m\u001b[0;34m\u001b[0m\u001b[0m\n\u001b[0;32m--> 405\u001b[0;31m                                       logger=module_logger)\n\u001b[0m\u001b[1;32m    406\u001b[0m \u001b[0;34m\u001b[0m\u001b[0m\n\u001b[1;32m    407\u001b[0m     def update(self, image=None, tags=None, properties=None, description=None, auth_enabled=None, ssl_enabled=None,\n",
            "\u001b[0;31mWebserviceException\u001b[0m: WebserviceException:\n\tMessage: Received bad response from service. More information can be found by calling `.get_logs()` on the webservice object.\nResponse Code: 502\nHeaders: {'Connection': 'keep-alive', 'Content-Length': '38', 'Content-Type': 'text/html; charset=utf-8', 'Date': 'Fri, 29 Jan 2021 12:55:53 GMT', 'Server': 'nginx/1.10.3 (Ubuntu)', 'X-Ms-Request-Id': '3c39affe-ae1b-4b41-ac0b-59129025cd61', 'X-Ms-Run-Function-Failed': 'True'}\nContent: b\"name 'extract_features' is not defined\"\n\tInnerException None\n\tErrorResponse \n{\n    \"error\": {\n        \"message\": \"Received bad response from service. More information can be found by calling `.get_logs()` on the webservice object.\\nResponse Code: 502\\nHeaders: {'Connection': 'keep-alive', 'Content-Length': '38', 'Content-Type': 'text/html; charset=utf-8', 'Date': 'Fri, 29 Jan 2021 12:55:53 GMT', 'Server': 'nginx/1.10.3 (Ubuntu)', 'X-Ms-Request-Id': '3c39affe-ae1b-4b41-ac0b-59129025cd61', 'X-Ms-Run-Function-Failed': 'True'}\\nContent: b\\\"name 'extract_features' is not defined\\\"\"\n    }\n}"
          ]
        }
      ],
      "execution_count": 12,
      "metadata": {
        "trusted": true
      }
    },
    {
      "cell_type": "code",
      "source": [
        "result_df = pd.DataFrame(result_list)\r\n",
        "residuals = result_df['RUL'] - result_df['PredictedRul']\r\n",
        "result_df['Residual'] = residuals\r\n",
        "result_df[['CycleTime','RUL','PredictedRul','Residual']]"
      ],
      "outputs": [],
      "execution_count": null,
      "metadata": {
        "collapsed": true,
        "jupyter": {
          "source_hidden": false,
          "outputs_hidden": false
        },
        "nteract": {
          "transient": {
            "deleting": false
          }
        }
      }
    },
    {
      "cell_type": "markdown",
      "source": [
        "## Predict entire set\n",
        "\n",
        "To make sure the model as a whole is working as expected, we send the test set in bulk to the model, save the predictions, and calculate the residual."
      ],
      "metadata": {}
    },
    {
      "cell_type": "code",
      "source": [
        "import json\n",
        "import pandas as pd\n",
        "\n",
        "X_messages = test_df.to_dict('record')\n",
        "raw_data = json.dumps(X_messages)\n",
        "\n",
        "result_list = aci_service.run(input_data=raw_data)\n",
        "result_df = pd.DataFrame(result_list)\n",
        "residuals = result_df['RUL'] - result_df['PredictedRul']\n",
        "result_df['Residual'] = residuals\n",
        "\n",
        "y_test = result_df['RUL']\n",
        "y_pred = result_df['PredictedRul']"
      ],
      "outputs": [],
      "execution_count": null,
      "metadata": {
        "trusted": true
      }
    },
    {
      "cell_type": "markdown",
      "source": [
        "## Plot actuals vs. predicted\n",
        "\n",
        "To validate the shape of the model, plot the actual RUL against the predicted RUL for each cycle and device."
      ],
      "metadata": {}
    },
    {
      "cell_type": "code",
      "source": [
        "from sklearn.metrics import mean_squared_error, r2_score\n",
        "import matplotlib.pyplot as plt\n",
        "import seaborn as sns\n",
        "sns.set()\n",
        "\n",
        "fig, ax = plt.subplots()\n",
        "fig.set_size_inches(8, 4)\n",
        "\n",
        "font_size = 12\n",
        "\n",
        "g = sns.regplot(y='PredictedRul', x='RUL', data=result_df, fit_reg=False, ax=ax)\n",
        "lim_set = g.set(ylim=(0, 500), xlim=(0, 500))\n",
        "plot = g.axes.plot([0, 500], [0, 500], c=\".3\", ls=\"--\");\n",
        "\n",
        "rmse = ax.text(16,450,'RMSE = {0:.2f}'.format(numpy.sqrt(mean_squared_error(y_test, y_pred))), fontsize = font_size)\n",
        "r2 = ax.text(16,425,'R2 Score = {0:.2f}'.format(r2_score(y_test, y_pred)), fontsize = font_size)\n",
        "\n",
        "xlabel = ax.set_xlabel('Actual RUL', size=font_size)\n",
        "ylabel = ax.set_ylabel('Predicted RUL', size=font_size)\n"
      ],
      "outputs": [],
      "execution_count": null,
      "metadata": {
        "trusted": true
      }
    },
    {
      "cell_type": "markdown",
      "source": [
        "## Delete web service\n",
        "\n",
        "Now that we are confident that our container and model are working well, delete the web service."
      ],
      "metadata": {}
    },
    {
      "cell_type": "code",
      "source": [
        "from azureml.core.webservice import Webservice\n",
        "aci_service = Webservice(ws, 'edge-ml-rul-01')\n",
        "\n",
        "aci_service.delete()"
      ],
      "outputs": [],
      "execution_count": null,
      "metadata": {
        "trusted": true
      }
    }
  ],
  "metadata": {
    "kernelspec": {
      "name": "python3-azureml",
      "language": "python",
      "display_name": "Python 3.6 - AzureML"
    },
    "language_info": {
      "name": "python",
      "version": "3.6.9",
      "mimetype": "text/x-python",
      "codemirror_mode": {
        "name": "ipython",
        "version": 3
      },
      "pygments_lexer": "ipython3",
      "nbconvert_exporter": "python",
      "file_extension": ".py"
    },
    "kernel_info": {
      "name": "python3-azureml"
    },
    "nteract": {
      "version": "nteract-front-end@1.0.0"
    }
  },
  "nbformat": 4,
  "nbformat_minor": 1
}