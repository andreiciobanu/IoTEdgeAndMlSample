{
  "cells": [
    {
      "cell_type": "markdown",
      "source": [
        "# Introduction\n",
        "\n",
        "In this notebook, we demonstrate the steps needed to create an IoT Edge deployable module from the regression model created in the [turbofan regression](./turbofan_regression.ipynb) notebook. The steps we will follow are:\n",
        "   1. Reload experiment and model from the Azure Machine Learning service workspace\n",
        "   1. Create a scoring script\n",
        "   1. Create an environment YAML file\n",
        "   1. Create a container image using the model, scoring script and YAML file\n",
        "   1. Deploy the container image as a web service \n",
        "   1. Test the web service to make sure the container works as expected\n",
        "   1. Delete the web service\n",
        "   \n",
        "><font color=gray>Note: this notebook depends on the workspace, experiment and model created in the [turbofan regression](./turbofan_regression.ipynb) notebook.</font>"
      ],
      "metadata": {}
    },
    {
      "cell_type": "markdown",
      "source": [
        "# Set up notebook\n",
        "\n",
        "Please ensure that you are running this notebook under the Python 3.6 Kernel. The current kernel is show on the top of the notebook at the far right side of the file menu. If you are not running Python 3.6 you can change it in the file menu by clicking **Kernel->Change Kernel->Python 3.6**"
      ],
      "metadata": {}
    },
    {
      "cell_type": "code",
      "source": [
        "from IPython.core.interactiveshell import InteractiveShell\n",
        "InteractiveShell.ast_node_interactivity = \"all\"\n",
        "\n",
        "%matplotlib inline"
      ],
      "outputs": [],
      "execution_count": 2,
      "metadata": {
        "trusted": true,
        "gather": {
          "logged": 1611930434593
        }
      }
    },
    {
      "cell_type": "markdown",
      "source": [
        "## Configure workspace\n",
        "\n",
        "Create a workspace object from the existing workspace. `Workspace.from_config()` reads the file **aml_config/.azureml/config.json** and loads the details into an object named `ws`, which is used throughout the rest of the code in this notebook."
      ],
      "metadata": {}
    },
    {
      "cell_type": "code",
      "source": [
        "from azureml.core.workspace import Workspace\n",
        "from azureml.core.experiment import Experiment\n",
        "from azureml.core.model import Model\n",
        "from azureml.train.automl.run import AutoMLRun\n",
        "\n",
        "ws = Workspace.from_config(path='./aml_config')"
      ],
      "outputs": [],
      "execution_count": 3,
      "metadata": {
        "trusted": true,
        "gather": {
          "logged": 1611930437836
        }
      }
    },
    {
      "cell_type": "code",
      "source": [
        "ws.name"
      ],
      "outputs": [
        {
          "output_type": "execute_result",
          "execution_count": 4,
          "data": {
            "text/plain": "'turbofanDemo2'"
          },
          "metadata": {}
        }
      ],
      "execution_count": 4,
      "metadata": {
        "collapsed": true,
        "jupyter": {
          "source_hidden": false,
          "outputs_hidden": false
        },
        "nteract": {
          "transient": {
            "deleting": false
          }
        },
        "gather": {
          "logged": 1611930441470
        }
      }
    },
    {
      "cell_type": "markdown",
      "source": [
        "## Load run, experiment and model\n",
        "\n",
        "Use the model information that we persisted in the [turbofan regression](./turbofan_regression.ipynb) noebook to load our model."
      ],
      "metadata": {}
    },
    {
      "cell_type": "code",
      "source": [
        "import json \n",
        "\n",
        "#name project folder and experiment\n",
        "model_data = json.load(open('./aml_config/model_config.json'))\n",
        "\n",
        "run_id = model_data['regressionRunId']\n",
        "experiment_name = model_data['experimentName']\n",
        "model_id = model_data['modelId']\n",
        "\n",
        "experiment = Experiment(ws, experiment_name)\n",
        "automl_run = AutoMLRun(experiment = experiment, run_id = run_id)\n",
        "model = Model(ws, model_id)"
      ],
      "outputs": [],
      "execution_count": 5,
      "metadata": {
        "trusted": true,
        "gather": {
          "logged": 1611930450973
        }
      }
    },
    {
      "cell_type": "markdown",
      "source": [
        "# Create scoring script\n",
        "\n",
        "The scoring script is the piece of code that runs inside the container and interacts with the model to return a prediction to the caller of web service or Azure IoT Edge module that is running the container. The scoring script is authored knowing the shape of the message that will be sent to the container. In our case, we have chosen to format the message as:\n",
        "\n",
        "```json\n",
        "[{\n",
        "    \"DeviceId\": 81,\n",
        "    \"CycleTime\": 140,\n",
        "    \"OperationalSetting1\": 0.0,\n",
        "    \"OperationalSetting2\": -0.0002,\n",
        "    \"OperationalSetting3\": 100.0,\n",
        "    \"Sensor1\": 518.67,\n",
        "    \"Sensor2\": 642.43,\n",
        "    \"Sensor3\": 1596.02,\n",
        "    \"Sensor4\": 1404.4,\n",
        "    \"Sensor5\": 14.62,\n",
        "    \"Sensor6\": 21.6,\n",
        "    \"Sensor7\": 559.76,\n",
        "    \"Sensor8\": 2388.19,\n",
        "    \"Sensor9\": 9082.16,\n",
        "    \"Sensor10\": 1.31,\n",
        "    \"Sensor11\": 47.6,\n",
        "    \"Sensor12\": 527.82,\n",
        "    \"Sensor13\": 2388.17,\n",
        "    \"Sensor14\": 8155.92,\n",
        "    \"Sensor15\": 8.3214,\n",
        "    \"Sensor16\": 0.03,\n",
        "    \"Sensor17\": 393.0,\n",
        "    \"Sensor18\": 2388.0,\n",
        "    \"Sensor19\": 100.0,\n",
        "    \"Sensor20\": 39.41,\n",
        "    \"Sensor21\": 23.5488\n",
        "}]\n",
        "```"
      ],
      "metadata": {}
    },
    {
      "cell_type": "code",
      "source": [
        "script_file_name = 'score.py'"
      ],
      "outputs": [],
      "execution_count": 6,
      "metadata": {
        "trusted": true,
        "gather": {
          "logged": 1611930451116
        }
      }
    },
    {
      "cell_type": "code",
      "source": [
        "#Initial\n",
        "import pickle\n",
        "import json\n",
        "import numpy as np\n",
        "import pandas as pd\n",
        "import azureml.train.automl\n",
        "import joblib\n",
        "from azureml.core.model import Model\n",
        "\n",
        "def init():\n",
        "    global model\n",
        "    log_for_debug(\"Get model\")\n",
        "    print(Model.get_model_path(model_name = '<<modelname>>'))\n",
        "    model_path = Model.get_model_path(model_name = '<<modelname>>')\n",
        "    # deserialize the model file back into a sklearn model\n",
        "    log_for_debug(\"\")\n",
        "    model = joblib.load(model_path)\n",
        "    \n",
        "def unpack_message(raw_data):\n",
        "    message_data = json.loads(raw_data)\n",
        "    # convert single message to list \n",
        "    if type(message_data) is dict:\n",
        "        message_data = [message_data]\n",
        "    return message_data\n",
        "    \n",
        "def extract_features(message_data):\n",
        "    X_data = []\n",
        "    sensor_names = ['Sensor'+str(i) for i in range(1,22)]\n",
        "    \n",
        "    for message in message_data:\n",
        "        # select sensor data from the message dictionary\n",
        "        feature_dict = {k: message[k] for k in (sensor_names)}\n",
        "        X_data.append(feature_dict)\n",
        "    \n",
        "    X_df = pd.DataFrame(X_data)\n",
        "    return np.array(X_df[sensor_names].values)\n",
        "\n",
        "def append_predict_data(message_data, y_hat):\n",
        "    message_df = pd.DataFrame(message_data)\n",
        "    message_df['PredictedRul'] = y_hat\n",
        "    return message_df.to_dict('records')\n",
        "\n",
        "def log_for_debug(log_message, log_data):\n",
        "    print(\"*****%s:\" % log_message)\n",
        "    print(log_data)\n",
        "    print(\"******\")\n",
        "\n",
        "def run(raw_data):\n",
        "    log_for_debug(\"raw_data\", raw_data)\n",
        "    \n",
        "    message_data = unpack_message(raw_data)\n",
        "    log_for_debug(\"message_data\", message_data)\n",
        "    \n",
        "    X_data = extract_features(message_data)\n",
        "    log_for_debug(\"X_data\", X_data)\n",
        "   \n",
        "    # make prediction\n",
        "    y_hat = model.predict(X_data)\n",
        "    \n",
        "    response_data = append_predict_data(message_data, y_hat)\n",
        "    return response_data"
      ],
      "outputs": [],
      "execution_count": 7,
      "metadata": {
        "trusted": true,
        "gather": {
          "logged": 1611930459085
        }
      }
    },
    {
      "cell_type": "markdown",
      "source": [
        "### Update the scoring script with the actual model ID"
      ],
      "metadata": {}
    },
    {
      "cell_type": "code",
      "source": [
        "# Substitute the actual model id in the script file.\n",
        "\n",
        "with open(script_file_name, 'r') as cefr:\n",
        "    content = cefr.read()\n",
        "\n",
        "with open(script_file_name, 'w') as cefw:\n",
        "    cefw.write(content.replace('<<modelname>>', model.name))"
      ],
      "outputs": [
        {
          "output_type": "execute_result",
          "execution_count": 8,
          "data": {
            "text/plain": "1625"
          },
          "metadata": {}
        }
      ],
      "execution_count": 8,
      "metadata": {
        "trusted": true,
        "gather": {
          "logged": 1611930547618
        }
      }
    },
    {
      "cell_type": "code",
      "source": [
        "best_run, fitted_model = automl_run.get_output()"
      ],
      "outputs": [],
      "execution_count": 9,
      "metadata": {
        "collapsed": true,
        "jupyter": {
          "source_hidden": false,
          "outputs_hidden": false
        },
        "nteract": {
          "transient": {
            "deleting": false
          }
        },
        "gather": {
          "logged": 1611930571738
        }
      }
    },
    {
      "cell_type": "code",
      "source": [
        "conda_env_file_name = 'conda_env.yml'"
      ],
      "outputs": [],
      "execution_count": 10,
      "metadata": {
        "collapsed": true,
        "jupyter": {
          "source_hidden": false,
          "outputs_hidden": false
        },
        "nteract": {
          "transient": {
            "deleting": false
          }
        },
        "gather": {
          "logged": 1611930574463
        }
      }
    },
    {
      "cell_type": "code",
      "source": [
        "# overwrites conda_env.yml with the correct values!\r\n",
        "# add ruamel.yaml>=0.15.99 at the end\r\n",
        "from azureml.automl.core.shared import constants\r\n",
        "\r\n",
        "best_run.download_file(name=\"outputs/conda_env_v_1_0_0.yml\", output_file_path=conda_env_file_name)\r\n",
        "with open(conda_env_file_name, \"r\") as conda_file:\r\n",
        "    conda_file_contents = conda_file.read()\r\n",
        "    print(conda_file_contents)"
      ],
      "outputs": [
        {
          "output_type": "stream",
          "name": "stdout",
          "text": [
            "# Conda environment specification. The dependencies defined in this file will\n",
            "# be automatically provisioned for runs with userManagedDependencies=False.\n",
            "\n",
            "# Details about the Conda environment file format:\n",
            "# https://conda.io/docs/user-guide/tasks/manage-environments.html#create-env-file-manually\n",
            "\n",
            "name: project_environment\n",
            "dependencies:\n",
            "  # The python interpreter version.\n",
            "  # Currently Azure ML only supports 3.5.2 and later.\n",
            "- python=3.6.2\n",
            "\n",
            "- pip:\n",
            "  - azureml-train-automl-runtime==1.20.0.post1\n",
            "  - inference-schema\n",
            "  - azureml-interpret==1.20.0\n",
            "  - azureml-defaults==1.20.0\n",
            "- numpy>=1.16.0,<1.19.0\n",
            "- pandas==0.25.1\n",
            "- scikit-learn==0.22.1\n",
            "- py-xgboost<=0.90\n",
            "- fbprophet==0.5\n",
            "- holidays==0.9.11\n",
            "- psutil>=5.2.2,<6.0.0\n",
            "channels:\n",
            "- anaconda\n",
            "- conda-forge\n",
            "\n"
          ]
        }
      ],
      "execution_count": 17,
      "metadata": {
        "collapsed": true,
        "jupyter": {
          "source_hidden": false,
          "outputs_hidden": false
        },
        "nteract": {
          "transient": {
            "deleting": false
          }
        },
        "gather": {
          "logged": 1611926501763
        }
      }
    },
    {
      "cell_type": "markdown",
      "source": [
        "## Create YAML file for the environment\n",
        "\n",
        "The YAML file provides the information about the dependencies for the model we will deploy. \n",
        "\n",
        "### Get azureml versions\n",
        "\n",
        "First we will use the run to retrieve the version of the azureml packages used to train the model. \n",
        "\n",
        ">Warnings about the version of the SDK not matching with the training version are expected "
      ],
      "metadata": {}
    },
    {
      "cell_type": "markdown",
      "source": [
        "### Write YAML file \n",
        "\n",
        "Write the initial YAML file to disk and update the dependencies for azureml to match with the training versions. This is not strictly needed in this notebook because the model likely has been generated using the current SDK version. However, we include this for completeness for the case when an experiment was trained using a previous SDK version."
      ],
      "metadata": {}
    },
    {
      "cell_type": "markdown",
      "source": [
        "## Create a container image\n",
        "\n",
        "Use the scoring script and the YAML file to create a container image in the workspace. The image will take several minutes to create."
      ],
      "metadata": {}
    },
    {
      "cell_type": "code",
      "source": [
        "from azureml.core.image import Image, ContainerImage\n",
        "\n",
        "image_config = ContainerImage.image_configuration(runtime= \"python\",\n",
        "                                 execution_script = script_file_name,\n",
        "                                 conda_file = conda_env_file_name,\n",
        "                                 tags = {'area': \"digits\", 'type': \"automl_classification\"},\n",
        "                                 description = \"Image for Edge ML samples\")\n",
        "\n",
        "image = Image.create(name = \"edgemlsample\",\n",
        "                     # this is the model object \n",
        "                     models = [model],\n",
        "                     image_config = image_config, \n",
        "                     workspace = ws)\n",
        "\n",
        "image.wait_for_creation(show_output = True)\n",
        "\n",
        "if image.creation_state == 'Failed':\n",
        "    print(\"Image build log at: \" + image.image_build_log_uri)"
      ],
      "outputs": [
        {
          "output_type": "stream",
          "name": "stdout",
          "text": [
            "Creating image\n",
            "Running...................................................................................................................................................................\n",
            "Succeeded\n",
            "Image creation operation finished for image edgemlsample:32, operation \"Succeeded\"\n"
          ]
        }
      ],
      "execution_count": 21,
      "metadata": {
        "trusted": true,
        "gather": {
          "logged": 1611933659780
        }
      }
    },
    {
      "cell_type": "markdown",
      "source": [
        "## Deploy image as a web service on Azure Container Instance\n",
        "\n",
        "Deploy the image we just created as web service on Azure Container Instance (ACI). We will use this web service to test that our model/container performs as expected. "
      ],
      "metadata": {}
    },
    {
      "cell_type": "code",
      "source": [
        "from azureml.core.webservice import AciWebservice\n",
        "from azureml.core.webservice import Webservice\n",
        "aci_service_name = 'edge-ml-rul-28'\n",
        "\n",
        "# to retrieve the logs:\n",
        "#1) az login\n",
        "#2) az ml service get-logs --verbose --workspace-name turbofanDemo2 --name edge-ml-rul-07\n",
        "aci_config = AciWebservice.deploy_configuration(cpu_cores = 1, \n",
        "                                               memory_gb = 1, \n",
        "                                               tags = {'area': \"digits\", 'type': \"automl_RUL\"}, \n",
        "                                               description = 'test service for Edge ML RUL')\n",
        "\n",
        "print (\"Deploying service: %s\" % aci_service_name)\n",
        "\n",
        "aci_service = Webservice.deploy_from_image(deployment_config = aci_config,\n",
        "                                           image = image,\n",
        "                                           name = aci_service_name,\n",
        "                                           workspace = ws)\n",
        "\n",
        "aci_service.wait_for_deployment(True)\n",
        "print (\"Service state: %s\" % aci_service.state)"
      ],
      "outputs": [
        {
          "output_type": "stream",
          "name": "stdout",
          "text": [
            "Deploying service: edge-ml-rul-28\n",
            "Tips: You can try get_logs(): https://aka.ms/debugimage#dockerlog or local deployment: https://aka.ms/debugimage#debug-locally to debug if deployment takes longer than 10 minutes.\n",
            "Running.....................................\n",
            "Succeeded\n",
            "ACI service creation operation finished, operation \"Succeeded\"\n",
            "Service state: Healthy\n"
          ]
        }
      ],
      "execution_count": 22,
      "metadata": {
        "trusted": true,
        "gather": {
          "logged": 1611934382241
        }
      }
    },
    {
      "cell_type": "code",
      "source": [
        "print(aci_service.get_logs())"
      ],
      "outputs": [
        {
          "output_type": "stream",
          "name": "stdout",
          "text": [
            "2021-01-29T10:39:49,373913245+00:00 - iot-server/run \n",
            "2021-01-29T10:39:49,373185444+00:00 - rsyslog/run \n",
            "2021-01-29T10:39:49,375670948+00:00 - gunicorn/run \n",
            "2021-01-29T10:39:49,416727407+00:00 - nginx/run \n",
            "EdgeHubConnectionString and IOTEDGE_IOTHUBHOSTNAME are not set. Exiting...\n",
            "2021-01-29T10:39:49,653021652+00:00 - iot-server/finish 1 0\n",
            "2021-01-29T10:39:49,654559654+00:00 - Exit code 1 is normal. Not restarting iot-server.\n",
            "Starting gunicorn 19.9.0\n",
            "Listening at: http://127.0.0.1:31311 (11)\n",
            "Using worker: sync\n",
            "worker timeout is set to 300\n",
            "Booting worker with pid: 43\n",
            "generated new fontManager\n",
            "Initializing logger\n",
            "2021-01-29 10:39:55,871 | root | INFO | Starting up app insights client\n",
            "Starting up app insights client\n",
            "2021-01-29 10:39:55,871 | root | INFO | Starting up request id generator\n",
            "Starting up request id generator\n",
            "2021-01-29 10:39:55,871 | root | INFO | Starting up app insight hooks\n",
            "Starting up app insight hooks\n",
            "2021-01-29 10:39:55,871 | root | INFO | Invoking user's init function\n",
            "Invoking user's init function\n",
            "2021-01-29 10:39:55,871 | root | ERROR | User's init function failed\n",
            "User's init function failed\n",
            "2021-01-29 10:39:55,872 | root | ERROR | Encountered Exception Traceback (most recent call last):\n",
            "  File \"/var/azureml-server/aml_blueprint.py\", line 163, in register\n",
            "    main.init()\n",
            "  File \"/var/azureml-app/main.py\", line 35, in init\n",
            "    driver_module.init()\n",
            "  File \"/var/azureml-app/score.py\", line 10, in init\n",
            "    log_for_debug(\"Get model\")\n",
            "TypeError: log_for_debug() missing 1 required positional argument: 'log_data'\n",
            "\n",
            "Encountered Exception Traceback (most recent call last):\n",
            "  File \"/var/azureml-server/aml_blueprint.py\", line 163, in register\n",
            "    main.init()\n",
            "  File \"/var/azureml-app/main.py\", line 35, in init\n",
            "    driver_module.init()\n",
            "  File \"/var/azureml-app/score.py\", line 10, in init\n",
            "    log_for_debug(\"Get model\")\n",
            "TypeError: log_for_debug() missing 1 required positional argument: 'log_data'\n",
            "\n",
            "Worker exiting (pid: 43)\n",
            "Shutting down: Master\n",
            "Reason: Worker failed to boot.\n",
            "2021-01-29T10:39:57,100251205+00:00 - gunicorn/finish 3 0\n",
            "2021-01-29T10:39:57,101345407+00:00 - Exit code 3 is not normal. Killing image.\n",
            "\n"
          ]
        }
      ],
      "execution_count": 14,
      "metadata": {
        "collapsed": true,
        "jupyter": {
          "source_hidden": false,
          "outputs_hidden": false
        },
        "nteract": {
          "transient": {
            "deleting": false
          }
        },
        "gather": {
          "logged": 1611916828022
        }
      }
    },
    {
      "cell_type": "markdown",
      "source": [
        "## Load test data\n",
        "\n",
        "To save a couple of steps at this point, we serialized the test data that we loaded in the [turbofan regression](./turbofan_regression.ipynb) notebook. Here we deserialize that data to use it to test the web service."
      ],
      "metadata": {}
    },
    {
      "cell_type": "code",
      "source": [
        "import pandas as pd\n",
        "from sklearn.externals import joblib\n",
        "import numpy\n",
        "\n",
        "test_df = pd.read_csv(\"data/Test2.csv\")\n",
        "\n",
        "test_df.head(5)"
      ],
      "outputs": [
        {
          "output_type": "execute_result",
          "execution_count": 27,
          "data": {
            "text/plain": "   Unnamed: 0  Unit  CycleTime         QueueTime  OperationalSetting1  \\\n0           0     1          1  29/01/2021 16:48                  -17   \n1           1     1          2  29/01/2021 16:48                    6   \n2           2     1          3  29/01/2021 16:48                   14   \n3           3     1          4  29/01/2021 16:48                   27   \n4           4     1          5  29/01/2021 16:48                   -1   \n\n   OperationalSetting2  OperationalSetting3  Sensor1  Sensor2  Sensor3  ...  \\\n0                   -4                 1000    51867    64194   158193  ...   \n1                   -2                 1000    51867    64202   158486  ...   \n2                   -3                 1000    51867    64168   158178  ...   \n3                    1                 1000    51867     6422   158453  ...   \n4                    1                 1000    51867    64246   158903  ...   \n\n   Sensor15  Sensor16  Sensor17  Sensor18  Sensor19  Sensor20  Sensor21  \\\n0      8376         3       391      2388      1000      3907    234468   \n1     84062         3       391      2388      1000      3904    234807   \n2     83553         3       391      2388      1000       391    234244   \n3     83709         3       392      2388      1000      3897    234782   \n4     84146         3       391      2388      1000      3909     23395   \n\n   MaxCycle  RUL  RulClass  \n0       233  276      Full  \n1       233  275      Full  \n2       233  274      Full  \n3       233  273      Full  \n4       233  272      Full  \n\n[5 rows x 31 columns]",
            "text/html": "<div>\n<style scoped>\n    .dataframe tbody tr th:only-of-type {\n        vertical-align: middle;\n    }\n\n    .dataframe tbody tr th {\n        vertical-align: top;\n    }\n\n    .dataframe thead th {\n        text-align: right;\n    }\n</style>\n<table border=\"1\" class=\"dataframe\">\n  <thead>\n    <tr style=\"text-align: right;\">\n      <th></th>\n      <th>Unnamed: 0</th>\n      <th>Unit</th>\n      <th>CycleTime</th>\n      <th>QueueTime</th>\n      <th>OperationalSetting1</th>\n      <th>OperationalSetting2</th>\n      <th>OperationalSetting3</th>\n      <th>Sensor1</th>\n      <th>Sensor2</th>\n      <th>Sensor3</th>\n      <th>...</th>\n      <th>Sensor15</th>\n      <th>Sensor16</th>\n      <th>Sensor17</th>\n      <th>Sensor18</th>\n      <th>Sensor19</th>\n      <th>Sensor20</th>\n      <th>Sensor21</th>\n      <th>MaxCycle</th>\n      <th>RUL</th>\n      <th>RulClass</th>\n    </tr>\n  </thead>\n  <tbody>\n    <tr>\n      <th>0</th>\n      <td>0</td>\n      <td>1</td>\n      <td>1</td>\n      <td>29/01/2021 16:48</td>\n      <td>-17</td>\n      <td>-4</td>\n      <td>1000</td>\n      <td>51867</td>\n      <td>64194</td>\n      <td>158193</td>\n      <td>...</td>\n      <td>8376</td>\n      <td>3</td>\n      <td>391</td>\n      <td>2388</td>\n      <td>1000</td>\n      <td>3907</td>\n      <td>234468</td>\n      <td>233</td>\n      <td>276</td>\n      <td>Full</td>\n    </tr>\n    <tr>\n      <th>1</th>\n      <td>1</td>\n      <td>1</td>\n      <td>2</td>\n      <td>29/01/2021 16:48</td>\n      <td>6</td>\n      <td>-2</td>\n      <td>1000</td>\n      <td>51867</td>\n      <td>64202</td>\n      <td>158486</td>\n      <td>...</td>\n      <td>84062</td>\n      <td>3</td>\n      <td>391</td>\n      <td>2388</td>\n      <td>1000</td>\n      <td>3904</td>\n      <td>234807</td>\n      <td>233</td>\n      <td>275</td>\n      <td>Full</td>\n    </tr>\n    <tr>\n      <th>2</th>\n      <td>2</td>\n      <td>1</td>\n      <td>3</td>\n      <td>29/01/2021 16:48</td>\n      <td>14</td>\n      <td>-3</td>\n      <td>1000</td>\n      <td>51867</td>\n      <td>64168</td>\n      <td>158178</td>\n      <td>...</td>\n      <td>83553</td>\n      <td>3</td>\n      <td>391</td>\n      <td>2388</td>\n      <td>1000</td>\n      <td>391</td>\n      <td>234244</td>\n      <td>233</td>\n      <td>274</td>\n      <td>Full</td>\n    </tr>\n    <tr>\n      <th>3</th>\n      <td>3</td>\n      <td>1</td>\n      <td>4</td>\n      <td>29/01/2021 16:48</td>\n      <td>27</td>\n      <td>1</td>\n      <td>1000</td>\n      <td>51867</td>\n      <td>6422</td>\n      <td>158453</td>\n      <td>...</td>\n      <td>83709</td>\n      <td>3</td>\n      <td>392</td>\n      <td>2388</td>\n      <td>1000</td>\n      <td>3897</td>\n      <td>234782</td>\n      <td>233</td>\n      <td>273</td>\n      <td>Full</td>\n    </tr>\n    <tr>\n      <th>4</th>\n      <td>4</td>\n      <td>1</td>\n      <td>5</td>\n      <td>29/01/2021 16:48</td>\n      <td>-1</td>\n      <td>1</td>\n      <td>1000</td>\n      <td>51867</td>\n      <td>64246</td>\n      <td>158903</td>\n      <td>...</td>\n      <td>84146</td>\n      <td>3</td>\n      <td>391</td>\n      <td>2388</td>\n      <td>1000</td>\n      <td>3909</td>\n      <td>23395</td>\n      <td>233</td>\n      <td>272</td>\n      <td>Full</td>\n    </tr>\n  </tbody>\n</table>\n<p>5 rows × 31 columns</p>\n</div>"
          },
          "metadata": {}
        }
      ],
      "execution_count": 27,
      "metadata": {
        "trusted": true,
        "gather": {
          "logged": 1611935676671
        }
      }
    },
    {
      "cell_type": "markdown",
      "source": [
        "## Predict one message at a time\n",
        "\n",
        "Once the container/model is deployed to and Azure IoT Edge device it will receive messages one at a time. Send a few messages in that mode to make sure everything is working."
      ],
      "metadata": {}
    },
    {
      "cell_type": "code",
      "source": [
        "import json\n",
        "import pandas as pd\n",
        "\n",
        "# reformat data as list of messages\n",
        "X_message = test_df.head(5).to_dict('record')\n",
        "\n",
        "result_list = []\n",
        "for row in X_message:\n",
        "    row_data = json.dumps(row)\n",
        "    row_result = aci_service.run(input_data=row_data)\n",
        "    result_list.append(row_result[0])"
      ],
      "outputs": [
        {
          "output_type": "stream",
          "name": "stderr",
          "text": [
            "ERROR:azureml.core.webservice.aci:Received bad response from service. More information can be found by calling `.get_logs()` on the webservice object.\n",
            "Response Code: 502\n",
            "Headers: {'Connection': 'keep-alive', 'Content-Length': '481', 'Content-Type': 'text/html; charset=utf-8', 'Date': 'Fri, 29 Jan 2021 15:54:49 GMT', 'Server': 'nginx/1.10.3 (Ubuntu)', 'X-Ms-Request-Id': 'f3f7288b-94de-4dc7-91bd-ddbc12d5144c', 'X-Ms-Run-Function-Failed': 'True'}\n",
            "Content: b'DataException:\\n\\tMessage: Expected column(s) 0 not found in fitted data.\\n\\tInnerException: None\\n\\tErrorResponse \\n{\\n    \"error\": {\\n        \"code\": \"UserError\",\\n        \"message\": \"Expected column(s) 0 not found in fitted data.\",\\n        \"target\": \"X\",\\n        \"inner_error\": {\\n            \"code\": \"BadArgument\",\\n            \"inner_error\": {\\n                \"code\": \"MissingColumnsInData\"\\n            }\\n        },\\n        \"reference_code\": \"17049f70-3bbe-4060-a63f-f06590e784e5\"\\n    }\\n}'\n",
            "\n"
          ]
        },
        {
          "output_type": "error",
          "ename": "WebserviceException",
          "evalue": "WebserviceException:\n\tMessage: Received bad response from service. More information can be found by calling `.get_logs()` on the webservice object.\nResponse Code: 502\nHeaders: {'Connection': 'keep-alive', 'Content-Length': '481', 'Content-Type': 'text/html; charset=utf-8', 'Date': 'Fri, 29 Jan 2021 15:54:49 GMT', 'Server': 'nginx/1.10.3 (Ubuntu)', 'X-Ms-Request-Id': 'f3f7288b-94de-4dc7-91bd-ddbc12d5144c', 'X-Ms-Run-Function-Failed': 'True'}\nContent: b'DataException:\\n\\tMessage: Expected column(s) 0 not found in fitted data.\\n\\tInnerException: None\\n\\tErrorResponse \\n{\\n    \"error\": {\\n        \"code\": \"UserError\",\\n        \"message\": \"Expected column(s) 0 not found in fitted data.\",\\n        \"target\": \"X\",\\n        \"inner_error\": {\\n            \"code\": \"BadArgument\",\\n            \"inner_error\": {\\n                \"code\": \"MissingColumnsInData\"\\n            }\\n        },\\n        \"reference_code\": \"17049f70-3bbe-4060-a63f-f06590e784e5\"\\n    }\\n}'\n\tInnerException None\n\tErrorResponse \n{\n    \"error\": {\n        \"message\": \"Received bad response from service. More information can be found by calling `.get_logs()` on the webservice object.\\nResponse Code: 502\\nHeaders: {'Connection': 'keep-alive', 'Content-Length': '481', 'Content-Type': 'text/html; charset=utf-8', 'Date': 'Fri, 29 Jan 2021 15:54:49 GMT', 'Server': 'nginx/1.10.3 (Ubuntu)', 'X-Ms-Request-Id': 'f3f7288b-94de-4dc7-91bd-ddbc12d5144c', 'X-Ms-Run-Function-Failed': 'True'}\\nContent: b'DataException:\\\\n\\\\tMessage: Expected column(s) 0 not found in fitted data.\\\\n\\\\tInnerException: None\\\\n\\\\tErrorResponse \\\\n{\\\\n    \\\"error\\\": {\\\\n        \\\"code\\\": \\\"UserError\\\",\\\\n        \\\"message\\\": \\\"Expected column(s) 0 not found in fitted data.\\\",\\\\n        \\\"target\\\": \\\"X\\\",\\\\n        \\\"inner_error\\\": {\\\\n            \\\"code\\\": \\\"BadArgument\\\",\\\\n            \\\"inner_error\\\": {\\\\n                \\\"code\\\": \\\"MissingColumnsInData\\\"\\\\n            }\\\\n        },\\\\n        \\\"reference_code\\\": \\\"17049f70-3bbe-4060-a63f-f06590e784e5\\\"\\\\n    }\\\\n}'\"\n    }\n}",
          "traceback": [
            "\u001b[0;31m---------------------------------------------------------------------------\u001b[0m",
            "\u001b[0;31mWebserviceException\u001b[0m                       Traceback (most recent call last)",
            "\u001b[0;32m<ipython-input-28-ac28d6bb57f2>\u001b[0m in \u001b[0;36m<module>\u001b[0;34m\u001b[0m\n\u001b[1;32m      8\u001b[0m \u001b[0;32mfor\u001b[0m \u001b[0mrow\u001b[0m \u001b[0;32min\u001b[0m \u001b[0mX_message\u001b[0m\u001b[0;34m:\u001b[0m\u001b[0;34m\u001b[0m\u001b[0;34m\u001b[0m\u001b[0m\n\u001b[1;32m      9\u001b[0m     \u001b[0mrow_data\u001b[0m \u001b[0;34m=\u001b[0m \u001b[0mjson\u001b[0m\u001b[0;34m.\u001b[0m\u001b[0mdumps\u001b[0m\u001b[0;34m(\u001b[0m\u001b[0mrow\u001b[0m\u001b[0;34m)\u001b[0m\u001b[0;34m\u001b[0m\u001b[0;34m\u001b[0m\u001b[0m\n\u001b[0;32m---> 10\u001b[0;31m     \u001b[0mrow_result\u001b[0m \u001b[0;34m=\u001b[0m \u001b[0maci_service\u001b[0m\u001b[0;34m.\u001b[0m\u001b[0mrun\u001b[0m\u001b[0;34m(\u001b[0m\u001b[0minput_data\u001b[0m\u001b[0;34m=\u001b[0m\u001b[0mrow_data\u001b[0m\u001b[0;34m)\u001b[0m\u001b[0;34m\u001b[0m\u001b[0;34m\u001b[0m\u001b[0m\n\u001b[0m\u001b[1;32m     11\u001b[0m     \u001b[0mresult_list\u001b[0m\u001b[0;34m.\u001b[0m\u001b[0mappend\u001b[0m\u001b[0;34m(\u001b[0m\u001b[0mrow_result\u001b[0m\u001b[0;34m[\u001b[0m\u001b[0;36m0\u001b[0m\u001b[0;34m]\u001b[0m\u001b[0;34m)\u001b[0m\u001b[0;34m\u001b[0m\u001b[0;34m\u001b[0m\u001b[0m\n",
            "\u001b[0;32m/anaconda/envs/azureml_py36/lib/python3.6/site-packages/azureml/core/webservice/aci.py\u001b[0m in \u001b[0;36mrun\u001b[0;34m(self, input_data)\u001b[0m\n\u001b[1;32m    403\u001b[0m                                       \u001b[0;34m'Headers: {}\\n'\u001b[0m\u001b[0;34m\u001b[0m\u001b[0;34m\u001b[0m\u001b[0m\n\u001b[1;32m    404\u001b[0m                                       \u001b[0;34m'Content: {}'\u001b[0m\u001b[0;34m.\u001b[0m\u001b[0mformat\u001b[0m\u001b[0;34m(\u001b[0m\u001b[0mresp\u001b[0m\u001b[0;34m.\u001b[0m\u001b[0mstatus_code\u001b[0m\u001b[0;34m,\u001b[0m \u001b[0mresp\u001b[0m\u001b[0;34m.\u001b[0m\u001b[0mheaders\u001b[0m\u001b[0;34m,\u001b[0m \u001b[0mresp\u001b[0m\u001b[0;34m.\u001b[0m\u001b[0mcontent\u001b[0m\u001b[0;34m)\u001b[0m\u001b[0;34m,\u001b[0m\u001b[0;34m\u001b[0m\u001b[0;34m\u001b[0m\u001b[0m\n\u001b[0;32m--> 405\u001b[0;31m                                       logger=module_logger)\n\u001b[0m\u001b[1;32m    406\u001b[0m \u001b[0;34m\u001b[0m\u001b[0m\n\u001b[1;32m    407\u001b[0m     def update(self, image=None, tags=None, properties=None, description=None, auth_enabled=None, ssl_enabled=None,\n",
            "\u001b[0;31mWebserviceException\u001b[0m: WebserviceException:\n\tMessage: Received bad response from service. More information can be found by calling `.get_logs()` on the webservice object.\nResponse Code: 502\nHeaders: {'Connection': 'keep-alive', 'Content-Length': '481', 'Content-Type': 'text/html; charset=utf-8', 'Date': 'Fri, 29 Jan 2021 15:54:49 GMT', 'Server': 'nginx/1.10.3 (Ubuntu)', 'X-Ms-Request-Id': 'f3f7288b-94de-4dc7-91bd-ddbc12d5144c', 'X-Ms-Run-Function-Failed': 'True'}\nContent: b'DataException:\\n\\tMessage: Expected column(s) 0 not found in fitted data.\\n\\tInnerException: None\\n\\tErrorResponse \\n{\\n    \"error\": {\\n        \"code\": \"UserError\",\\n        \"message\": \"Expected column(s) 0 not found in fitted data.\",\\n        \"target\": \"X\",\\n        \"inner_error\": {\\n            \"code\": \"BadArgument\",\\n            \"inner_error\": {\\n                \"code\": \"MissingColumnsInData\"\\n            }\\n        },\\n        \"reference_code\": \"17049f70-3bbe-4060-a63f-f06590e784e5\"\\n    }\\n}'\n\tInnerException None\n\tErrorResponse \n{\n    \"error\": {\n        \"message\": \"Received bad response from service. More information can be found by calling `.get_logs()` on the webservice object.\\nResponse Code: 502\\nHeaders: {'Connection': 'keep-alive', 'Content-Length': '481', 'Content-Type': 'text/html; charset=utf-8', 'Date': 'Fri, 29 Jan 2021 15:54:49 GMT', 'Server': 'nginx/1.10.3 (Ubuntu)', 'X-Ms-Request-Id': 'f3f7288b-94de-4dc7-91bd-ddbc12d5144c', 'X-Ms-Run-Function-Failed': 'True'}\\nContent: b'DataException:\\\\n\\\\tMessage: Expected column(s) 0 not found in fitted data.\\\\n\\\\tInnerException: None\\\\n\\\\tErrorResponse \\\\n{\\\\n    \\\"error\\\": {\\\\n        \\\"code\\\": \\\"UserError\\\",\\\\n        \\\"message\\\": \\\"Expected column(s) 0 not found in fitted data.\\\",\\\\n        \\\"target\\\": \\\"X\\\",\\\\n        \\\"inner_error\\\": {\\\\n            \\\"code\\\": \\\"BadArgument\\\",\\\\n            \\\"inner_error\\\": {\\\\n                \\\"code\\\": \\\"MissingColumnsInData\\\"\\\\n            }\\\\n        },\\\\n        \\\"reference_code\\\": \\\"17049f70-3bbe-4060-a63f-f06590e784e5\\\"\\\\n    }\\\\n}'\"\n    }\n}"
          ]
        }
      ],
      "execution_count": 28,
      "metadata": {
        "trusted": true
      }
    },
    {
      "cell_type": "code",
      "source": [
        "result_df = pd.DataFrame(result_list)\r\n",
        "residuals = result_df['RUL'] - result_df['PredictedRul']\r\n",
        "result_df['Residual'] = residuals\r\n",
        "result_df[['CycleTime','RUL','PredictedRul','Residual']]"
      ],
      "outputs": [],
      "execution_count": null,
      "metadata": {
        "collapsed": true,
        "jupyter": {
          "source_hidden": false,
          "outputs_hidden": false
        },
        "nteract": {
          "transient": {
            "deleting": false
          }
        }
      }
    },
    {
      "cell_type": "markdown",
      "source": [
        "## Predict entire set\n",
        "\n",
        "To make sure the model as a whole is working as expected, we send the test set in bulk to the model, save the predictions, and calculate the residual."
      ],
      "metadata": {}
    },
    {
      "cell_type": "code",
      "source": [
        "import json\n",
        "import pandas as pd\n",
        "\n",
        "X_messages = test_df.to_dict('record')\n",
        "raw_data = json.dumps(X_messages)\n",
        "\n",
        "result_list = aci_service.run(input_data=raw_data)\n",
        "result_df = pd.DataFrame(result_list)\n",
        "residuals = result_df['RUL'] - result_df['PredictedRul']\n",
        "result_df['Residual'] = residuals\n",
        "\n",
        "y_test = result_df['RUL']\n",
        "y_pred = result_df['PredictedRul']"
      ],
      "outputs": [],
      "execution_count": null,
      "metadata": {
        "trusted": true
      }
    },
    {
      "cell_type": "markdown",
      "source": [
        "## Plot actuals vs. predicted\n",
        "\n",
        "To validate the shape of the model, plot the actual RUL against the predicted RUL for each cycle and device."
      ],
      "metadata": {}
    },
    {
      "cell_type": "code",
      "source": [
        "from sklearn.metrics import mean_squared_error, r2_score\n",
        "import matplotlib.pyplot as plt\n",
        "import seaborn as sns\n",
        "sns.set()\n",
        "\n",
        "fig, ax = plt.subplots()\n",
        "fig.set_size_inches(8, 4)\n",
        "\n",
        "font_size = 12\n",
        "\n",
        "g = sns.regplot(y='PredictedRul', x='RUL', data=result_df, fit_reg=False, ax=ax)\n",
        "lim_set = g.set(ylim=(0, 500), xlim=(0, 500))\n",
        "plot = g.axes.plot([0, 500], [0, 500], c=\".3\", ls=\"--\");\n",
        "\n",
        "rmse = ax.text(16,450,'RMSE = {0:.2f}'.format(numpy.sqrt(mean_squared_error(y_test, y_pred))), fontsize = font_size)\n",
        "r2 = ax.text(16,425,'R2 Score = {0:.2f}'.format(r2_score(y_test, y_pred)), fontsize = font_size)\n",
        "\n",
        "xlabel = ax.set_xlabel('Actual RUL', size=font_size)\n",
        "ylabel = ax.set_ylabel('Predicted RUL', size=font_size)\n"
      ],
      "outputs": [],
      "execution_count": null,
      "metadata": {
        "trusted": true
      }
    },
    {
      "cell_type": "markdown",
      "source": [
        "## Delete web service\n",
        "\n",
        "Now that we are confident that our container and model are working well, delete the web service."
      ],
      "metadata": {}
    },
    {
      "cell_type": "code",
      "source": [
        "from azureml.core.webservice import Webservice\n",
        "aci_service = Webservice(ws, 'edge-ml-rul-01')\n",
        "\n",
        "aci_service.delete()"
      ],
      "outputs": [],
      "execution_count": null,
      "metadata": {
        "trusted": true
      }
    }
  ],
  "metadata": {
    "kernelspec": {
      "name": "python3-azureml",
      "language": "python",
      "display_name": "Python 3.6 - AzureML"
    },
    "language_info": {
      "name": "python",
      "version": "3.6.9",
      "mimetype": "text/x-python",
      "codemirror_mode": {
        "name": "ipython",
        "version": 3
      },
      "pygments_lexer": "ipython3",
      "nbconvert_exporter": "python",
      "file_extension": ".py"
    },
    "kernel_info": {
      "name": "python3-azureml"
    },
    "nteract": {
      "version": "nteract-front-end@1.0.0"
    }
  },
  "nbformat": 4,
  "nbformat_minor": 1
}